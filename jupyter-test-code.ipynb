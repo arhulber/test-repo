{
 "cells": [
  {
   "cell_type": "code",
   "execution_count": 2,
   "id": "dd130a19",
   "metadata": {},
   "outputs": [
    {
     "name": "stdout",
     "output_type": "stream",
     "text": [
      "hello\n",
      "nice\n",
      "36\n"
     ]
    }
   ],
   "source": [
    "print ('hello')\n",
    "print('nice')\n",
    "\n",
    "\n",
    "def func(x):\n",
    "    return x ** 2\n",
    "\n",
    "print(func(6))"
   ]
  },
  {
   "cell_type": "code",
   "execution_count": 3,
   "id": "71811ffb",
   "metadata": {},
   "outputs": [
    {
     "name": "stdout",
     "output_type": "stream",
     "text": [
      "j\n"
     ]
    }
   ],
   "source": [
    "print(\"j\")"
   ]
  },
  {
   "cell_type": "code",
   "execution_count": 4,
   "id": "870fa678",
   "metadata": {},
   "outputs": [
    {
     "name": "stdout",
     "output_type": "stream",
     "text": [
      "y\n"
     ]
    }
   ],
   "source": [
    "print('y')"
   ]
  },
  {
   "cell_type": "code",
   "execution_count": null,
   "id": "f7b79a42",
   "metadata": {},
   "outputs": [],
   "source": []
  }
 ],
 "metadata": {
  "kernelspec": {
   "display_name": "Python 3",
   "language": "python",
   "name": "python3"
  },
  "language_info": {
   "codemirror_mode": {
    "name": "ipython",
    "version": 3
   },
   "file_extension": ".py",
   "mimetype": "text/x-python",
   "name": "python",
   "nbconvert_exporter": "python",
   "pygments_lexer": "ipython3",
   "version": "3.11.9"
  }
 },
 "nbformat": 4,
 "nbformat_minor": 5
}
